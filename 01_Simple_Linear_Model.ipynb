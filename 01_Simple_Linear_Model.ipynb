{
 "cells": [
  {
   "cell_type": "markdown",
   "metadata": {},
   "source": [
    "# Brincando com TensorFlow - Meetup GDG\n",
    "# Modelo Simples Linear"
   ]
  },
  {
   "cell_type": "markdown",
   "metadata": {},
   "source": [
    "## Introdução\n",
    "\n",
    "Este tutorial demonstra o fluxo de trabalho básico do uso do TensorFlow com um modelo linear simples. Depois de carregar o chamado conjunto de dados MNIST com imagens de dígitos escritos à mão, definimos e otimizamos um modelo matemático simples em TensorFlow. Os resultados são então plotados e discutidos."
   ]
  },
  {
   "cell_type": "markdown",
   "metadata": {},
   "source": [
    "## Imports"
   ]
  },
  {
   "cell_type": "code",
   "execution_count": 1,
   "metadata": {},
   "outputs": [],
   "source": [
    "%matplotlib inline\n",
    "import matplotlib.pyplot as plt\n",
    "import tensorflow as tf\n",
    "import numpy as np\n",
    "from sklearn.metrics import confusion_matrix"
   ]
  },
  {
   "cell_type": "markdown",
   "metadata": {},
   "source": [
    "This was developed using Python 3.6 (Anaconda) and TensorFlow version:"
   ]
  },
  {
   "cell_type": "code",
   "execution_count": 2,
   "metadata": {},
   "outputs": [
    {
     "data": {
      "text/plain": [
       "'1.5.0'"
      ]
     },
     "execution_count": 2,
     "metadata": {},
     "output_type": "execute_result"
    }
   ],
   "source": [
    "tf.__version__"
   ]
  },
  {
   "cell_type": "code",
   "execution_count": 3,
   "metadata": {},
   "outputs": [
    {
     "name": "stdout",
     "output_type": "stream",
     "text": [
      "b'Hello, TensorFlow!'\n",
      "42\n"
     ]
    }
   ],
   "source": [
    "hello=tf.constant('Hello, TensorFlow!')\n",
    "sess=tf.Session()\n",
    "print(sess.run(hello))\n",
    "\n",
    "a=tf.constant(10)\n",
    "b=tf.constant(32)\n",
    "print(sess.run(a + b))"
   ]
  },
  {
   "cell_type": "markdown",
   "metadata": {},
   "source": [
    "## Load Data"
   ]
  },
  {
   "cell_type": "markdown",
   "metadata": {},
   "source": [
    "O conjunto de dados MNIST é de cerca de 10 MB e será baixado automaticamente se não estiver localizado no caminho fornecido."
   ]
  },
  {
   "cell_type": "code",
   "execution_count": 9,
   "metadata": {},
   "outputs": [
    {
     "name": "stdout",
     "output_type": "stream",
     "text": [
      "Extracting data/MNIST/train-images-idx3-ubyte.gz\n",
      "Extracting data/MNIST/train-labels-idx1-ubyte.gz\n",
      "Extracting data/MNIST/t10k-images-idx3-ubyte.gz\n",
      "Extracting data/MNIST/t10k-labels-idx1-ubyte.gz\n"
     ]
    }
   ],
   "source": [
    "from tensorflow.examples.tutorials.mnist import input_data\n",
    "mnist = input_data.read_data_sets(\"data/MNIST/\", one_hot=True)"
   ]
  },
  {
   "cell_type": "markdown",
   "metadata": {},
   "source": [
    "O conjunto de dados MNIST foi agora carregado e consiste em 40.000 imagens e números de classe para as imagens. O conjunto de dados é dividido em 3 subconjuntos mutuamente exclusivos. Nós usaremos somente os conjuntos de treinamento e teste neste tutorial."
   ]
  },
  {
   "cell_type": "code",
   "execution_count": 10,
   "metadata": {},
   "outputs": [
    {
     "name": "stdout",
     "output_type": "stream",
     "text": [
      "Number of training examples: 55000\n",
      "Number of validation examples: 5000\n",
      "Number of testing examples: 10000\n"
     ]
    }
   ],
   "source": [
    "print(\"Number of training examples:\", mnist.train.num_examples)\n",
    "print(\"Number of validation examples:\", mnist.validation.num_examples)\n",
    "print(\"Number of testing examples:\", mnist.test.num_examples)"
   ]
  },
  {
   "cell_type": "markdown",
   "metadata": {},
   "source": [
    "Copie algumas das dimensões de dados por conveniência."
   ]
  },
  {
   "cell_type": "code",
   "execution_count": 12,
   "metadata": {},
   "outputs": [
    {
     "name": "stdout",
     "output_type": "stream",
     "text": [
      "(55000, 784) (55000, 10)\n",
      "(5000, 784) (5000, 10)\n",
      "(10000, 784) (10000, 10)\n"
     ]
    }
   ],
   "source": [
    "print(mnist.train.images.shape, mnist.train.labels.shape)\n",
    "print(mnist.validation.images.shape, mnist.validation.labels.shape)\n",
    "print(mnist.test.images.shape, mnist.test.labels.shape)"
   ]
  },
  {
   "cell_type": "code",
   "execution_count": 14,
   "metadata": {},
   "outputs": [
    {
     "data": {
      "image/png": "[encoded data removed]",
      "text/plain": [
       "<Figure size 720x720 with 6 Axes>"
      ]
     },
     "metadata": {},
     "output_type": "display_data"
    }
   ],
   "source": [
    "left= 2.5\n",
    "top = 2.5\n",
    "\n",
    "fig = plt.figure(figsize=(10,10))\n",
    "\n",
    "for i in range(6):\n",
    "    ax = fig.add_subplot(3,2,i+1)\n",
    "    im = np.reshape(mnist.train.images[i,:], [28,28])\n",
    "\n",
    "    label = np.argmax(mnist.train.labels[i,:])\n",
    "    ax.imshow(im, cmap='Greys')\n",
    "    ax.text(left, top, str(label))"
   ]
  },
  {
   "cell_type": "markdown",
   "metadata": {},
   "source": [
    "## TensorFlow Graph\n",
    "\n",
    "Todo o propósito do TensorFlow é ter um chamado gráfico computacional que pode ser executado com muito mais eficiência do que se os mesmos cálculos fossem executados diretamente no Python. O TensorFlow pode ser mais eficiente que o NumPy, porque o TensorFlow conhece todo o gráfico de computação que deve ser executado, enquanto o NumPy só conhece o cálculo de uma única operação matemática por vez.\n",
    "\n",
    "O TensorFlow também pode calcular automaticamente os gradientes necessários para otimizar as variáveis ​​do gráfico, a fim de melhorar o desempenho do modelo. Isso ocorre porque o gráfico é uma combinação de expressões matemáticas simples para que o gradiente do gráfico inteiro possa ser calculado usando a regra da cadeia para derivadas.\n",
    "\n",
    "O TensorFlow também pode aproveitar CPUs multi-core, bem como GPUs - e o Google até criou chips especiais para o TensorFlow, que são chamados de TPUs (Tensor Processing Units), que são ainda mais rápidos que os GPUs.\n",
    "\n",
    "Um gráfico do TensorFlow consiste nas seguintes partes, que serão detalhadas abaixo:\n",
    "\n",
    "* Variáveis de placeholder usadas para alimentar a entrada no gráfico.\n",
    "* Variáveis do modelo que serão otimizadas para que o modelo tenha um melhor desempenho.\n",
    "* O modelo que é essencialmente apenas uma função matemática que calcula alguma saída, dada a entrada nas variáveis de espaço reservado e as variáveis do modelo.\n",
    "* Uma medida de custo que pode ser usada para guiar a otimização das variáveis.\n",
    "* Um método de otimização que atualiza as variáveis do modelo.\n",
    "\n",
    "Além disso, o gráfico TensorFlow também pode conter várias declarações de depuração, por ex. para registrar os dados a serem exibidos usando o TensorBoard."
   ]
  },
  {
   "cell_type": "markdown",
   "metadata": {},
   "source": [
    "### Placeholder variables"
   ]
  },
  {
   "cell_type": "markdown",
   "metadata": {},
   "source": [
    "As variáveis de espaço reservado servem como entrada para o gráfico que podemos alterar a cada vez que executamos o gráfico. Chamamos isso de alimentar as variáveis de espaço reservado e isso é demonstrado mais adiante.\n",
    "\n",
    "Primeiro, definimos a variável de espaço reservado para as imagens de entrada. Isso nos permite alterar as imagens que são inseridas no gráfico do TensorFlow. Este é um chamado tensor, o que significa apenas que é um vetor ou matriz multidimensional. O tipo de dados é definido como float32 e a forma é definida como [None, tamanho], onde None significa que o tensor pode conter um número arbitrário de imagens, sendo cada imagem um vetor de comprimento x, w e b."
   ]
  },
  {
   "cell_type": "code",
   "execution_count": 20,
   "metadata": {},
   "outputs": [],
   "source": [
    "# A placeholder for the data (inputs and outputs)\n",
    "x = tf.placeholder(tf.float32, [None, 784])\n",
    "\n",
    "# W: the weights for each pixel for each class\n",
    "# b: bias of each class\n",
    "W = tf.Variable(tf.zeros([784, 10]))\n",
    "b = tf.Variable(tf.zeros([10]))"
   ]
  },
  {
   "cell_type": "markdown",
   "metadata": {},
   "source": [
    "### Model"
   ]
  },
  {
   "cell_type": "markdown",
   "metadata": {},
   "source": [
    "\n",
    "Esse modelo matemático simples multiplica as imagens na variável de espaço reservado x com os pesos e adiciona os vieses.\n",
    "\n",
    "Note que o nome logits é uma terminologia típica do TensorFlow, mas outras pessoas podem chamar a variável de outra coisa.\n",
    "\n",
    "## Softmax:\n",
    "\n",
    "Queremos dar probabilidades de que uma determinada imagem é um dígito. A regressão Softmax fornece uma lista de valores entre 0 e 1 que somam 1. Também podemos treinar modelos mais sofisticados, com uma etapa final de uma camada de softmax (é um link ou uma função de ativação).\n",
    "\n",
    "Dois passos para softmax:\n",
    "\n",
    "Adicione evidências de entrada em uma determinada classe usando uma soma ponderada de intensidades de pixel. O peso é negativo se o pixel que possui alta intensidade for uma evidência contra a imagem nessa classe e positivo se for uma evidência a favor.\n",
    "Converta as evidências em probabilidades."
   ]
  },
  {
   "cell_type": "code",
   "execution_count": 22,
   "metadata": {},
   "outputs": [],
   "source": [
    "# The model\n",
    "y = tf.nn.softmax(tf.matmul(x, W) + b)"
   ]
  },
  {
   "cell_type": "code",
   "execution_count": 23,
   "metadata": {},
   "outputs": [],
   "source": [
    "# placeholder to input correct answers\n",
    "y_ = tf.placeholder(tf.float32, [None, 10])\n",
    "\n",
    "# A measure of model precision using cross-entropy\n",
    "cross_entropy = tf.reduce_mean(-tf.reduce_sum(y_ * tf.log(y), reduction_indices=[1]))"
   ]
  },
  {
   "cell_type": "code",
   "execution_count": 24,
   "metadata": {},
   "outputs": [],
   "source": [
    "# ask TensorFLow to minimize cross_entropy with gradient descent\n",
    "# with 0.5 as learning rate\n",
    "train_step = tf.train.GradientDescentOptimizer(0.5).minimize(cross_entropy)"
   ]
  },
  {
   "cell_type": "code",
   "execution_count": 25,
   "metadata": {},
   "outputs": [],
   "source": [
    "init = tf.global_variables_initializer()\n",
    "\n",
    "# the execution\n",
    "sess = tf.Session()\n",
    "sess.run(init)\n",
    "\n",
    "# run training step 1000 times\n",
    "for i in range(1000):\n",
    "    \n",
    "    # get random 100 data samples from the training set\n",
    "    batch_xs, batch_ys = mnist.train.next_batch(100)\n",
    "    \n",
    "    # feed them to the model in place of the placeholders defined above\n",
    "    sess.run(train_step, feed_dict={x: batch_xs, y_: batch_ys})"
   ]
  },
  {
   "cell_type": "code",
   "execution_count": 26,
   "metadata": {},
   "outputs": [
    {
     "name": "stdout",
     "output_type": "stream",
     "text": [
      "Accuracy:  0.9163\n"
     ]
    }
   ],
   "source": [
    "correct_prediction = tf.equal(tf.argmax(y,1), tf.argmax(y_,1))\n",
    "\n",
    "#this accuracy returns the mean value of an array of 1s and 0s.\n",
    "accuracy = tf.reduce_mean(tf.cast(correct_prediction, tf.float32))\n",
    "\n",
    "# retrun the accuracy on the test set.\n",
    "print(\"Accuracy: \", sess.run(accuracy, feed_dict={x: mnist.test.images, y_: mnist.test.labels}))"
   ]
  },
  {
   "cell_type": "code",
   "execution_count": 27,
   "metadata": {},
   "outputs": [
    {
     "name": "stdout",
     "output_type": "stream",
     "text": [
      "4679 incorrect labels out of 55000\n"
     ]
    },
    {
     "data": {
      "image/png": "[encoded data removed]",
      "text/plain": [
       "<Figure size 720x720 with 6 Axes>"
      ]
     },
     "metadata": {},
     "output_type": "display_data"
    }
   ],
   "source": [
    "correct_vals = sess.run(correct_prediction, \n",
    "                        feed_dict={x: mnist.train.images, y_: mnist.train.labels})\n",
    "pred_vals = sess.run(y, feed_dict={x: mnist.train.images} )\n",
    "\n",
    "cntFalse = 0\n",
    "for cv in correct_vals:\n",
    "    if cv==False:\n",
    "        cntFalse+=1\n",
    "print(cntFalse, \"incorrect labels out of\",  len(correct_vals))\n",
    "\n",
    "\n",
    "fig = plt.figure(figsize=(10,10))\n",
    "\n",
    "cntFalse = 0\n",
    "for i, cv in enumerate(correct_vals):\n",
    "    \n",
    "    if cv==False:\n",
    "        cntFalse +=1\n",
    "\n",
    "        ax = fig.add_subplot(3,2,cntFalse)\n",
    "        im = np.reshape(mnist.train.images[i,:], [28,28])\n",
    "\n",
    "        label = np.argmax(mnist.train.labels[i,:])\n",
    "        pred_label = np.argmax(pred_vals[i,:])\n",
    "        \n",
    "        ax.imshow(im, cmap='Greys')\n",
    "        ax.text(left, top, 'true=' + str(label) + ', pred=' + str(pred_label))\n",
    "        \n",
    "    if cntFalse==6:\n",
    "        break"
   ]
  },
  {
   "cell_type": "code",
   "execution_count": 28,
   "metadata": {},
   "outputs": [],
   "source": [
    "sess.close()"
   ]
  },
  {
   "cell_type": "markdown",
   "metadata": {},
   "source": [
    "# Exercício\n",
    "\n",
    "### Explique de acordo com o valor da acurácia se os valores foram bons?\n",
    "\n",
    "Foi usado Softmax, teria outro algoritmo que poderia ser empregado e que poderia melhorar a acurácia?\n",
    "\n",
    "O algoritmo conseguiu aprender e distinguir as imagens de acordo com os valores de predição?"
   ]
  }
 ],
 "metadata": {
  "anaconda-cloud": {},
  "kernelspec": {
   "display_name": "Python 3",
   "language": "python",
   "name": "python3"
  },
  "language_info": {
   "codemirror_mode": {
    "name": "ipython",
    "version": 3
   },
   "file_extension": ".py",
   "mimetype": "text/x-python",
   "name": "python",
   "nbconvert_exporter": "python",
   "pygments_lexer": "ipython3",
   "version": "3.6.4"
  }
 },
 "nbformat": 4,
 "nbformat_minor": 1
}
